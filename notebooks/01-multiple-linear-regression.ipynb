{
 "cells": [
  {
   "cell_type": "code",
   "execution_count": 1,
   "metadata": {},
   "outputs": [
    {
     "name": "stderr",
     "output_type": "stream",
     "text": [
      "/usr/local/Cellar/python/3.6.5/Frameworks/Python.framework/Versions/3.6/lib/python3.6/importlib/_bootstrap.py:219: RuntimeWarning: numpy.dtype size changed, may indicate binary incompatibility. Expected 96, got 88\n",
      "  return f(*args, **kwds)\n",
      "/usr/local/Cellar/python/3.6.5/Frameworks/Python.framework/Versions/3.6/lib/python3.6/importlib/_bootstrap.py:219: RuntimeWarning: numpy.dtype size changed, may indicate binary incompatibility. Expected 96, got 88\n",
      "  return f(*args, **kwds)\n"
     ]
    }
   ],
   "source": [
    "\"\"\" Overview:\n",
    "\n",
    "We want to establish the relationship between a continuous outcome y given features (x_1, x_2, ..., x_n) \n",
    "that we can use to predict Y. This is called linear regression. In the simple case, we use only a single feature \n",
    "to predict y, i.e., y = b_0 + b_1 * x. In multiple linear regression, we use multiple features to predict y, \n",
    "i.e. y = b_0 + b_1 * x_1 + ... + b_n * x_n.\n",
    "\n",
    "As a case study, we will predict housing prices. We will use pandas to load, matplotlib to plot, and numpy to do \n",
    "basic math computations. The process is as follows:\n",
    "\n",
    "(0) load data (don't forget train-val-test splits!)\n",
    "(1) normalize data (x - mean(x))/(std(x)), same for y\n",
    "(2) cat bias to each of the x's\n",
    "(3) initialize weights\n",
    "(4) define cost fnc (1/N * sum((x @ weights.T - y)**2))\n",
    "(5) define backprop deriv = (2/N * sum(x * (x @ weights.T - y)))\n",
    "    weights = weights - lr * deriv\n",
    "(6) write up train fnc (early stopping, print progress)\n",
    "(7) plot loss vs. error\n",
    "\n",
    "\n",
    "IMPROVEMENT IDEAS: combine everything into one object, separate out regression into piecewise fnc based on\n",
    "number of bedrooms, add in R^2 (np.sum((y_pred - np.mean(y))**2))/np.sum((y_true - np.mean(y))**2))\n",
    "and RMSE (sqrt cost), look at correlations of different variables with y (heatmap or plots) and pick the\n",
    "single variable with the strongest correlation, add in regularization (L1 or L2 norm of weights).\n",
    "\"\"\"\n",
    "\n",
    "import numpy as np\n",
    "import pandas as pd\n",
    "import matplotlib.pyplot as plt\n",
    "\n",
    "plt.style.use('ggplot')"
   ]
  },
  {
   "cell_type": "code",
   "execution_count": 2,
   "metadata": {},
   "outputs": [
    {
     "name": "stdout",
     "output_type": "stream",
     "text": [
      "   size  bedroom   price\n",
      "0  2104        3  399900\n",
      "1  1600        3  329900\n",
      "2  2400        3  369000\n",
      "3  1416        2  232000\n",
      "4  3000        4  539900 \n",
      "\n",
      "       size   bedroom     price\n",
      "0  0.130010 -0.223675  0.475747\n",
      "1 -0.504190 -0.223675 -0.084074\n",
      "2  0.502476 -0.223675  0.228626\n",
      "3 -0.735723 -1.537767 -0.867025\n",
      "4  1.257476  1.090417  1.595389\n"
     ]
    }
   ],
   "source": [
    "# Load in our data easily using pandas and display a few rows\n",
    "data = pd.read_csv('../data/housing.txt',names=[\"size\",\"bedroom\",\"price\"])\n",
    "print(data.head(), '\\n')\n",
    "\n",
    "# Normalization is super important so that no feature dominates all the others.\n",
    "# We can call this the isotropic assumption (features are all measured in the\n",
    "# same way across different directions)\n",
    "data = (data - data.mean())/data.std()\n",
    "print(data.head())"
   ]
  },
  {
   "cell_type": "code",
   "execution_count": 3,
   "metadata": {},
   "outputs": [],
   "source": [
    "def compute_error(x, y, weights):\n",
    "    \"\"\" Use mean squared error to compute loss. We will use this for\n",
    "    progress updates \"\"\"\n",
    "    tobesummed = np.power(((x @ weights.T) - y),2)\n",
    "    return np.sum(tobesummed)/(2 * len(x))"
   ]
  },
  {
   "cell_type": "code",
   "execution_count": 4,
   "metadata": {},
   "outputs": [],
   "source": [
    "def compute_gradient(x, y, weights):\n",
    "    \"\"\" Update weights given predictions, labels, learning rate, and weights matrix\n",
    "    Includes prediction as part of the computation\n",
    "    \"\"\"\n",
    "    return (1 / len(x)) * np.sum(x * (x @ weights.T - y), axis=0)"
   ]
  },
  {
   "cell_type": "code",
   "execution_count": 5,
   "metadata": {},
   "outputs": [],
   "source": [
    "def train(x, y, weights, iters, lr, stop_threshold=1e-5):\n",
    "    \"\"\" Function to train\n",
    "    \"\"\"\n",
    "    cost = np.zeros(iters)\n",
    "    for i in range(iters):\n",
    "        grad = compute_gradient(x, y, weights)\n",
    "        weights = weights - lr*grad\n",
    "        cost[i] = compute_error(x, y, weights)\n",
    "        \n",
    "        if i % 50 == 0:\n",
    "            print('Cost at time step %d: %f'%(i, cost[i]))\n",
    "            if abs(cost[i] - cost[i-1]) < stop_threshold:\n",
    "                print('\\nEARLY STOPPED.')\n",
    "                cost = cost[:i]\n",
    "                break\n",
    "    \n",
    "    return weights, cost"
   ]
  },
  {
   "cell_type": "code",
   "execution_count": 6,
   "metadata": {
    "scrolled": true
   },
   "outputs": [
    {
     "name": "stdout",
     "output_type": "stream",
     "text": [
      "Cost at time step 0: 0.461607\n",
      "Cost at time step 50: 0.155280\n",
      "Cost at time step 100: 0.136439\n",
      "Cost at time step 150: 0.132120\n",
      "Cost at time step 200: 0.131044\n",
      "Cost at time step 250: 0.130776\n",
      "\n",
      "EARLY STOPPED.\n"
     ]
    }
   ],
   "source": [
    "# Get up to the last column of our dataframe, which we assume is our Y\n",
    "features = data.iloc[:, :-1]\n",
    "\n",
    "# Bias terms\n",
    "bias = np.ones([features.shape[0], 1])\n",
    "\n",
    "# Cat bias with feature values\n",
    "x = np.concatenate((bias, features),axis=1)\n",
    "\n",
    "# Separate out y\n",
    "y = np.array(data.iloc[:, -1:])\n",
    "\n",
    "# Initialize weights matrix\n",
    "weights = np.zeros([1, x.shape[1]])\n",
    "\n",
    "# Initialize learning rate, iterations\n",
    "lr, iters = 0.032, 1000\n",
    "\n",
    "# Train\n",
    "weights, cost = train(x, y, weights, iters, lr)"
   ]
  },
  {
   "cell_type": "code",
   "execution_count": 7,
   "metadata": {},
   "outputs": [
    {
     "data": {
      "text/plain": [
       "array([[-1.11211277e-16,  8.70362908e-01, -3.87786217e-02]])"
      ]
     },
     "execution_count": 7,
     "metadata": {},
     "output_type": "execute_result"
    }
   ],
   "source": [
    "weights"
   ]
  },
  {
   "cell_type": "code",
   "execution_count": 9,
   "metadata": {},
   "outputs": [
    {
     "data": {
      "text/plain": [
       "[]"
      ]
     },
     "execution_count": 9,
     "metadata": {},
     "output_type": "execute_result"
    },
    {
     "data": {
      "image/png": "[encoded data removed]",
      "text/plain": [
       "<Figure size 432x288 with 1 Axes>"
      ]
     },
     "metadata": {},
     "output_type": "display_data"
    }
   ],
   "source": [
    "#plot the cost\n",
    "fig, ax = plt.subplots()  \n",
    "ax.plot(range(len(cost)), cost, 'r')\n",
    "ax.set_xlabel('Iterations')\n",
    "ax.set_ylabel('Cost')\n",
    "ax.set_title('Error vs. Training Epoch')\n",
    "plt.plot()"
   ]
  }
 ],
 "metadata": {
  "kernelspec": {
   "display_name": "Python 3",
   "language": "python",
   "name": "python3"
  },
  "language_info": {
   "codemirror_mode": {
    "name": "ipython",
    "version": 3
   },
   "file_extension": ".py",
   "mimetype": "text/x-python",
   "name": "python",
   "nbconvert_exporter": "python",
   "pygments_lexer": "ipython3",
   "version": "3.6.5"
  }
 },
 "nbformat": 4,
 "nbformat_minor": 2
}
