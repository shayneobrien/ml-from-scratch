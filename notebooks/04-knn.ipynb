{
 "cells": [
  {
   "cell_type": "code",
   "execution_count": 1,
   "metadata": {},
   "outputs": [
    {
     "name": "stderr",
     "output_type": "stream",
     "text": [
      "/usr/local/Cellar/python/3.6.5/Frameworks/Python.framework/Versions/3.6/lib/python3.6/importlib/_bootstrap.py:219: RuntimeWarning: numpy.dtype size changed, may indicate binary incompatibility. Expected 96, got 88\n",
      "  return f(*args, **kwds)\n",
      "/usr/local/Cellar/python/3.6.5/Frameworks/Python.framework/Versions/3.6/lib/python3.6/importlib/_bootstrap.py:219: RuntimeWarning: numpy.dtype size changed, may indicate binary incompatibility. Expected 96, got 88\n",
      "  return f(*args, **kwds)\n"
     ]
    }
   ],
   "source": [
    "\"\"\" K-Nearest Neighbors\n",
    "\n",
    "Process overview:\n",
    "(0) Load data, normalize\n",
    "(1) Define distance fnc (e.g. Euclidean (sqrt of sum of square differences), \n",
    "    Manhattan (sum of abs differences), Minkowski ((sum of abs(diff)^q)^1/q))\n",
    "(2) For classification, decision is majority decision of nearest points. For \n",
    "    regression, it' simply the average\n",
    "    \n",
    "\n",
    "IMPROVEMENT IDEAS: different dist fncs, use cross-validation to pick best K,\n",
    "do regression instead of classification.\n",
    "\"\"\"\n",
    "\n",
    "import pandas as pd\n",
    "import numpy as np\n",
    "import matplotlib.pyplot as plt\n",
    "\n",
    "plt.style.use('ggplot')"
   ]
  },
  {
   "cell_type": "code",
   "execution_count": 5,
   "metadata": {},
   "outputs": [
    {
     "name": "stdout",
     "output_type": "stream",
     "text": [
      "   SepalLengthCm  SepalWidthCm  PetalLengthCm  PetalWidthCm      Species\n",
      "0            5.1           3.5            1.4           0.2  Iris-setosa\n",
      "1            4.9           3.0            1.4           0.2  Iris-setosa\n",
      "2            4.7           3.2            1.3           0.2  Iris-setosa\n",
      "3            4.6           3.1            1.5           0.2  Iris-setosa\n",
      "4            5.0           3.6            1.4           0.2  Iris-setosa \n",
      "\n",
      "   SepalLengthCm  SepalWidthCm  PetalLengthCm  PetalWidthCm      Species\n",
      "0      -0.897674      1.028611      -1.336794     -1.308593  Iris-setosa\n",
      "1      -1.139200     -0.124540      -1.336794     -1.308593  Iris-setosa\n",
      "2      -1.380727      0.336720      -1.393470     -1.308593  Iris-setosa\n",
      "3      -1.501490      0.106090      -1.280118     -1.308593  Iris-setosa\n",
      "4      -1.018437      1.259242      -1.336794     -1.308593  Iris-setosa\n"
     ]
    }
   ],
   "source": [
    "# Load in our data easily using pandas and display a few rows\n",
    "data = pd.read_csv('../data/iris.txt',names=[\"SepalLengthCm\", \"SepalWidthCm\", \"PetalLengthCm\", \"PetalWidthCm\", \"Species\"])\n",
    "print(data.head(), '\\n')\n",
    "\n",
    "# Normalize, noting we exclude the species (y) column because it is categorical.\n",
    "data.iloc[:, :-1] = (data.iloc[:, :-1] - data.iloc[:, :-1].mean())/data.iloc[:, :-1].std()\n",
    "print(data.head())"
   ]
  },
  {
   "cell_type": "code",
   "execution_count": 171,
   "metadata": {},
   "outputs": [],
   "source": [
    "labels = {key: idx for idx, key in enumerate(['Iris-setosa', 'Iris-virginica', 'Iris-versicolor'])}\n",
    "labels = np.array([labels[i] for i in data.iloc[:, -1]]).T"
   ]
  },
  {
   "cell_type": "code",
   "execution_count": 172,
   "metadata": {},
   "outputs": [
    {
     "data": {
      "text/plain": [
       "<matplotlib.collections.PathCollection at 0x11328d048>"
      ]
     },
     "execution_count": 172,
     "metadata": {},
     "output_type": "execute_result"
    },
    {
     "data": {
      "image/png": "[encoded data removed]",
      "text/plain": [
       "<Figure size 432x288 with 1 Axes>"
      ]
     },
     "metadata": {},
     "output_type": "display_data"
    }
   ],
   "source": [
    "# Plot what y's look like against the last two features.\n",
    "plt.scatter(data.iloc[:, 2], data.iloc[:, 3], c=labels)"
   ]
  },
  {
   "cell_type": "code",
   "execution_count": 199,
   "metadata": {},
   "outputs": [],
   "source": [
    "# Split data into train, test\n",
    "stop = int(len(data)*0.80)\n",
    "x, y = data[:stop], data[stop:]\n",
    "\n",
    "# Seperate out features and corresponding labels\n",
    "x, x_labels = np.array(x.iloc[:, :-1]), np.array(x.iloc[:, -1])\n",
    "y, y_labels = np.array(y.iloc[:, :-1]), np.array(y.iloc[:, -1])"
   ]
  },
  {
   "cell_type": "code",
   "execution_count": 200,
   "metadata": {},
   "outputs": [],
   "source": [
    "def dist(x, point, k):\n",
    "    \"\"\" Compute the Euclidean distance between a point and the\n",
    "    rest of the dataset and return its top K nearest points.\n",
    "    NOTE: odd k's are better to avoid ties for classification\n",
    "    \"\"\"\n",
    "    euclidean_dist = np.sqrt(np.sum((x - point)**2, axis=1))\n",
    "    return np.argsort(euclidean_dist)[:k]\n",
    "\n",
    "def most_common(lst):\n",
    "    \"\"\" Return most common element in a list\n",
    "    \"\"\"\n",
    "    return max(set(lst), key=lst.count)\n",
    "\n",
    "def knn_decision(x, x_labels, point, k):\n",
    "    \"\"\" KNN classifier\n",
    "    \"\"\"\n",
    "    return most_common(x_labels[dist(x, point, k)].tolist())"
   ]
  },
  {
   "cell_type": "code",
   "execution_count": 208,
   "metadata": {},
   "outputs": [
    {
     "name": "stdout",
     "output_type": "stream",
     "text": [
      "Accuracy with 1-NN: 86.7 percent\n",
      "Accuracy with 4-NN: 80.0 percent\n",
      "Accuracy with 7-NN: 73.3 percent\n",
      "Accuracy with 10-NN: 73.3 percent\n",
      "Accuracy with 13-NN: 63.3 percent\n",
      "Accuracy with 16-NN: 63.3 percent\n",
      "Accuracy with 19-NN: 56.7 percent\n",
      "Accuracy with 22-NN: 53.3 percent\n",
      "Accuracy with 25-NN: 36.7 percent\n",
      "Accuracy with 28-NN: 33.3 percent\n",
      "Accuracy with 31-NN: 3.3 percent\n",
      "Accuracy with 34-NN: 0.0 percent\n",
      "\n",
      "Best accuracy was 86.67 when k=1 for this data and split.\n"
     ]
    }
   ],
   "source": [
    "best = -1\n",
    "for k in range(1, 35, 3):\n",
    "    true, false = 0, 0\n",
    "    for i, l in zip(y, y_labels):\n",
    "        pred = knn_decision(x, x_labels, i, k)\n",
    "        if pred == l:\n",
    "            true += 1\n",
    "        else:\n",
    "            false += 1\n",
    "\n",
    "    acc = true/(true+false)*100\n",
    "    print('Accuracy with %d-NN: %.1f percent'%(k, acc))\n",
    "    \n",
    "    if best < acc:\n",
    "        best_k = k\n",
    "        best = acc\n",
    "        \n",
    "print('\\nBest accuracy was %.2f when k=%d for this data and split.'%(best, best_k))"
   ]
  }
 ],
 "metadata": {
  "kernelspec": {
   "display_name": "Python 3",
   "language": "python",
   "name": "python3"
  },
  "language_info": {
   "codemirror_mode": {
    "name": "ipython",
    "version": 3
   },
   "file_extension": ".py",
   "mimetype": "text/x-python",
   "name": "python",
   "nbconvert_exporter": "python",
   "pygments_lexer": "ipython3",
   "version": "3.6.5"
  }
 },
 "nbformat": 4,
 "nbformat_minor": 2
}
