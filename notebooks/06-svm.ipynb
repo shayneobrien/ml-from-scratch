{
 "cells": [
  {
   "cell_type": "code",
   "execution_count": 11,
   "metadata": {},
   "outputs": [],
   "source": [
    "\"\"\" Support vector machines (SVMs) are able to do either classification or regression.\n",
    "In this notebook, we will focus on classification. Our goal is to find the optimal\n",
    "separating hyperplane between different classes assuming that our data are linearly\n",
    "separable. We will do this by finding support vectors (points in respective classes that\n",
    "are very class to one another) and optimizing the separating hyperplane between them.\n",
    "Notably, the distance between support vectors is ||w||, where w defines our line.\n",
    "Then the distance between our support vectors and our hyperplane is 1/2 * ||w||. This\n",
    "is what we will optimize.\n",
    "\n",
    "Note that for any optimal line, we want to follow the constraint that y=np.sign(np.dot(w, x)+b)\n",
    "(so if np.dot(w, x)+b is positive, the label is 1. If it's negative, the label is -1).\n",
    "\n",
    "\"\"\"\n",
    "\n",
    "import numpy as np\n",
    "import matplotlib.pyplot as plt\n",
    "\n",
    "plt.style.use('ggplot')"
   ]
  },
  {
   "cell_type": "code",
   "execution_count": 22,
   "metadata": {},
   "outputs": [
    {
     "data": {
      "image/png": "[encoded data removed]",
      "text/plain": [
       "<Figure size 432x288 with 1 Axes>"
      ]
     },
     "metadata": {},
     "output_type": "display_data"
    }
   ],
   "source": [
    "# Create some toy data, visualize it\n",
    "data_dict = {-1:np.array([[1,7],\n",
    "                          [2,8],\n",
    "                          [3,8],\n",
    "                          [4,6],\n",
    "                          [3,4]]),\n",
    "             1:np.array([[5,1],\n",
    "                         [6,-1],\n",
    "                         [7,3],\n",
    "                         [8,-3],\n",
    "                         [4,0]])}\n",
    "\n",
    "# Visualize it so we can see what we're working with\n",
    "colors = ['r', 'g']\n",
    "for idx, (key, value) in enumerate(data_dict.items()):\n",
    "    for i in value:\n",
    "        plt.scatter(i[0], i[1], c=colors[idx])"
   ]
  },
  {
   "cell_type": "code",
   "execution_count": 45,
   "metadata": {},
   "outputs": [],
   "source": [
    "# We are missing our biases, so let's define a function that cats it to our input features\n",
    "def cat_bias(x):\n",
    "    \"\"\" Function to concatenate a bias to a given feature matrix\n",
    "    \"\"\"\n",
    "    bias = np.ones((x.shape[0], 1))\n",
    "    return np.concatenate((bias, x), axis=1)\n",
    "\n"
   ]
  },
  {
   "cell_type": "code",
   "execution_count": 47,
   "metadata": {},
   "outputs": [
    {
     "data": {
      "text/plain": [
       "array([[1., 1., 7.],\n",
       "       [1., 2., 8.],\n",
       "       [1., 3., 8.],\n",
       "       [1., 4., 6.],\n",
       "       [1., 3., 4.]])"
      ]
     },
     "execution_count": 47,
     "metadata": {},
     "output_type": "execute_result"
    }
   ],
   "source": [
    "cat_bias(data_dict[-1])"
   ]
  },
  {
   "cell_type": "code",
   "execution_count": null,
   "metadata": {},
   "outputs": [],
   "source": []
  },
  {
   "cell_type": "code",
   "execution_count": null,
   "metadata": {},
   "outputs": [],
   "source": [
    "def predict(x, weights):\n",
    "    return np.sign(np.dot(cat_bias(x), weights))"
   ]
  },
  {
   "cell_type": "code",
   "execution_count": 12,
   "metadata": {},
   "outputs": [
    {
     "name": "stdout",
     "output_type": "stream",
     "text": [
      "[[1 7]\n",
      " [2 8]\n",
      " [3 8]]\n",
      "[[ 5  1]\n",
      " [ 6 -1]\n",
      " [ 7  3]]\n"
     ]
    }
   ],
   "source": [
    "for key, value in data_dict.items():\n",
    "    print(value)"
   ]
  }
 ],
 "metadata": {
  "kernelspec": {
   "display_name": "Python 3",
   "language": "python",
   "name": "python3"
  },
  "language_info": {
   "codemirror_mode": {
    "name": "ipython",
    "version": 3
   },
   "file_extension": ".py",
   "mimetype": "text/x-python",
   "name": "python",
   "nbconvert_exporter": "python",
   "pygments_lexer": "ipython3",
   "version": "3.6.5"
  }
 },
 "nbformat": 4,
 "nbformat_minor": 2
}
