{
 "cells": [
  {
   "cell_type": "code",
   "execution_count": 119,
   "metadata": {},
   "outputs": [],
   "source": [
    "\"\"\" Overview:\n",
    "\n",
    "We want to establish the relationship between a categorical outcome Y given features (x_1, x_2, ..., x_n) \n",
    "that we can use to predict Y. This is called logistic regression.\n",
    "\n",
    "As a case study, we will predict housing prices. We will use pandas to load, matplotlib to plot, and numpy to do \n",
    "basic math computations. The process is as follows:\n",
    "\n",
    "(0) load data\n",
    "(1) normalize data (x - mean(x))/(std(x)), same for y\n",
    "(2) cat bias to each of the x's\n",
    "(3) initialize weights\n",
    "(4) define cost:1/n * sum((-y_i.T * sigmoid(x.T @ weights) - (1-y).T * (1 - sigmoid(x.T @ weights)))\n",
    "(5) define loss: 1/n * ()\n",
    "\n",
    "\n",
    "IMPROVEMENT IDEAS: \n",
    "\"\"\"\n",
    "\n",
    "import numpy as np\n",
    "import pandas as pd\n",
    "import matplotlib.pyplot as plt\n",
    "\n",
    "plt.style.use('ggplot')"
   ]
  },
  {
   "cell_type": "code",
   "execution_count": 2,
   "metadata": {},
   "outputs": [
    {
     "name": "stdout",
     "output_type": "stream",
     "text": [
      "   SepalLengthCm  SepalWidthCm  PetalLengthCm  PetalWidthCm      Species\n",
      "0            5.1           3.5            1.4           0.2  Iris-setosa\n",
      "1            4.9           3.0            1.4           0.2  Iris-setosa\n",
      "2            4.7           3.2            1.3           0.2  Iris-setosa\n",
      "3            4.6           3.1            1.5           0.2  Iris-setosa\n",
      "4            5.0           3.6            1.4           0.2  Iris-setosa \n",
      "\n",
      "   SepalLengthCm  SepalWidthCm  PetalLengthCm  PetalWidthCm      Species\n",
      "0      -0.897674      1.028611      -1.336794     -1.308593  Iris-setosa\n",
      "1      -1.139200     -0.124540      -1.336794     -1.308593  Iris-setosa\n",
      "2      -1.380727      0.336720      -1.393470     -1.308593  Iris-setosa\n",
      "3      -1.501490      0.106090      -1.280118     -1.308593  Iris-setosa\n",
      "4      -1.018437      1.259242      -1.336794     -1.308593  Iris-setosa\n"
     ]
    }
   ],
   "source": [
    "# Load in our data easily using pandas and display a few rows\n",
    "data = pd.read_csv('../data/iris.txt',names=[\"SepalLengthCm\", \"SepalWidthCm\", \"PetalLengthCm\", \"PetalWidthCm\", \"Species\"])\n",
    "print(data.head(), '\\n')\n",
    "\n",
    "# Normalization is super important so that no feature dominates all the others.\n",
    "# We can call this the isotropic assumption (features are all measured in the\n",
    "# same way across different directions).\n",
    "\n",
    "# Note we exclude the species (y) column because it is categorical.\n",
    "data.iloc[:, :-1] = (data.iloc[:, :-1] - data.iloc[:, :-1].mean())/data.iloc[:, :-1].std()\n",
    "print(data.head())"
   ]
  },
  {
   "cell_type": "code",
   "execution_count": 7,
   "metadata": {},
   "outputs": [],
   "source": [
    "def sigmoid(z):\n",
    "    \"\"\" Sigmoid activation function \n",
    "    \"\"\"\n",
    "    return 1. / (1. + np.exp(-z))"
   ]
  },
  {
   "cell_type": "code",
   "execution_count": 19,
   "metadata": {},
   "outputs": [],
   "source": [
    "def compute_error(x, y, weights):\n",
    "    \"\"\" Cost function for logistic regression\n",
    "    \"\"\"\n",
    "    h = sigmoid(x @ weights.T)\n",
    "    return (-y * np.log(h) - (1 - y) * np.log(1 - h)).mean()"
   ]
  },
  {
   "cell_type": "code",
   "execution_count": 9,
   "metadata": {},
   "outputs": [],
   "source": [
    "def compute_gradient(x, y, weights):\n",
    "    \"\"\" Update weights given predictions, labels, learning rate, and weights matrix\n",
    "    Includes prediction as part of the computation\n",
    "    \"\"\"\n",
    "    h = sigmoid(x @ weights.T)\n",
    "    return (1/len(x)) * x.T @ (h - y)"
   ]
  },
  {
   "cell_type": "code",
   "execution_count": 112,
   "metadata": {},
   "outputs": [],
   "source": [
    "def train(x, y, weights, iters, lr, stop_threshold=1e-5):\n",
    "    \"\"\" Function to train\n",
    "    \"\"\"\n",
    "    cost = np.zeros(iters)\n",
    "    for i in range(iters):\n",
    "        grad = compute_gradient(x, y, weights)\n",
    "        weights = weights - lr*grad\n",
    "        cost[i] = compute_error(x, y, weights)\n",
    "        \n",
    "        if i % 100 == 0:\n",
    "            print('Cost at time step %d: %f'%(i, cost[i]))\n",
    "            if abs(cost[i] - cost[i-1]) < stop_threshold:\n",
    "                print('\\nEARLY STOPPED.')\n",
    "                cost = cost[:i]\n",
    "                break\n",
    "    \n",
    "    return weights, cost"
   ]
  },
  {
   "cell_type": "code",
   "execution_count": 113,
   "metadata": {},
   "outputs": [],
   "source": [
    "def predict(x, weights, threshold=0.5):\n",
    "    \"\"\" Prediction function\n",
    "    \"\"\"\n",
    "    h = sigmoid(x @ weights.T)\n",
    "    return h >= threshold"
   ]
  },
  {
   "cell_type": "code",
   "execution_count": 120,
   "metadata": {
    "scrolled": true
   },
   "outputs": [
    {
     "name": "stdout",
     "output_type": "stream",
     "text": [
      "Cost at time step 0: 0.637007\n",
      "Cost at time step 100: 0.078100\n",
      "Cost at time step 200: 0.044617\n",
      "Cost at time step 300: 0.031864\n",
      "Cost at time step 400: 0.025053\n",
      "Cost at time step 500: 0.020782\n",
      "Cost at time step 600: 0.017839\n",
      "Cost at time step 700: 0.015678\n",
      "Cost at time step 800: 0.014020\n",
      "Cost at time step 900: 0.012704\n",
      "Cost at time step 1000: 0.011632\n",
      "\n",
      "EARLY STOPPED.\n"
     ]
    },
    {
     "data": {
      "image/png": "[encoded data removed]",
      "text/plain": [
       "<Figure size 432x288 with 1 Axes>"
      ]
     },
     "metadata": {},
     "output_type": "display_data"
    }
   ],
   "source": [
    "# Get up to the last column of our dataframe, which we assume is our Y\n",
    "features = data.iloc[:, :-1]\n",
    "\n",
    "# Bias terms\n",
    "bias = np.ones([features.shape[0], 1])\n",
    "\n",
    "# Cat bias with feature values\n",
    "x = np.concatenate((bias, features), axis=1)\n",
    "\n",
    "# Separate out y, combine two of the y's so it's binary\n",
    "labels = {key: idx for idx, key in enumerate(['Iris-setosa', 'Iris-virginica', 'Iris-versicolor'])}\n",
    "y = np.array([labels[i] for i in data.iloc[:, -1]]).T\n",
    "y = (y != 0)*1\n",
    "\n",
    "# Plot what y's look like against first two features (they are linearly separable)\n",
    "plt.scatter(data.iloc[:, 0], data.iloc[:, 1], c=y)\n",
    "plt.plot()\n",
    "\n",
    "# Initialize weights matrix\n",
    "weights = np.zeros(x.shape[1])\n",
    "\n",
    "# Initialize learning rate, iterations\n",
    "lr, iters = 0.1, 10000\n",
    "\n",
    "# Train\n",
    "weights, cost = train(x, y, weights, iters, lr)"
   ]
  },
  {
   "cell_type": "code",
   "execution_count": 121,
   "metadata": {},
   "outputs": [
    {
     "data": {
      "text/plain": [
       "1.0"
      ]
     },
     "execution_count": 121,
     "metadata": {},
     "output_type": "execute_result"
    }
   ],
   "source": [
    "# Accuracy\n",
    "(predict(x, weights) == y).mean()"
   ]
  },
  {
   "cell_type": "code",
   "execution_count": 122,
   "metadata": {},
   "outputs": [
    {
     "data": {
      "text/plain": [
       "Text(0.5,1,'Error vs. Training Epoch')"
      ]
     },
     "execution_count": 122,
     "metadata": {},
     "output_type": "execute_result"
    },
    {
     "data": {
      "image/png": "[encoded data removed]",
      "text/plain": [
       "<Figure size 432x288 with 1 Axes>"
      ]
     },
     "metadata": {},
     "output_type": "display_data"
    }
   ],
   "source": [
    "#plot the cost\n",
    "fig, ax = plt.subplots()  \n",
    "ax.plot(range(len(cost)), cost, 'r')\n",
    "ax.set_xlabel('Iterations')\n",
    "ax.set_ylabel('Cost')\n",
    "ax.set_title('Error vs. Training Epoch') "
   ]
  }
 ],
 "metadata": {
  "kernelspec": {
   "display_name": "Python 3",
   "language": "python",
   "name": "python3"
  },
  "language_info": {
   "codemirror_mode": {
    "name": "ipython",
    "version": 3
   },
   "file_extension": ".py",
   "mimetype": "text/x-python",
   "name": "python",
   "nbconvert_exporter": "python",
   "pygments_lexer": "ipython3",
   "version": "3.6.5"
  }
 },
 "nbformat": 4,
 "nbformat_minor": 2
}
